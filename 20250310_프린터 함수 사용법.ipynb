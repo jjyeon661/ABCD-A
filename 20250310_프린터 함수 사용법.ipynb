{
  "nbformat": 4,
  "nbformat_minor": 0,
  "metadata": {
    "colab": {
      "provenance": [],
      "authorship_tag": "ABX9TyMm2+/IVKLN2youTVecf55d",
      "include_colab_link": true
    },
    "kernelspec": {
      "name": "python3",
      "display_name": "Python 3"
    },
    "language_info": {
      "name": "python"
    }
  },
  "cells": [
    {
      "cell_type": "markdown",
      "metadata": {
        "id": "view-in-github",
        "colab_type": "text"
      },
      "source": [
        "<a href=\"https://colab.research.google.com/github/jjyeon661/ABCD-A/blob/20250310/20250310_%ED%94%84%EB%A6%B0%ED%84%B0%20%ED%95%A8%EC%88%98%20%EC%82%AC%EC%9A%A9%EB%B2%95.ipynb\" target=\"_parent\"><img src=\"https://colab.research.google.com/assets/colab-badge.svg\" alt=\"Open In Colab\"/></a>"
      ]
    },
    {
      "cell_type": "code",
      "source": [
        "print(\"Hello\")\n",
        "print('Hello','everyone')\n",
        "print('Hello'+'everyone')"
      ],
      "metadata": {
        "colab": {
          "base_uri": "https://localhost:8080/"
        },
        "id": "tQlku2Egjw6Q",
        "outputId": "4b632474-4218-44f5-d6e3-20321d891c68"
      },
      "execution_count": 2,
      "outputs": [
        {
          "output_type": "stream",
          "name": "stdout",
          "text": [
            "Hello\n",
            "Hello everyone\n",
            "Helloeveryone\n"
          ]
        }
      ]
    },
    {
      "cell_type": "code",
      "source": [
        "print('Hello',end='!!!')\n",
        "print('test')"
      ],
      "metadata": {
        "colab": {
          "base_uri": "https://localhost:8080/"
        },
        "id": "S9n4KQGRj3VQ",
        "outputId": "c5646e00-029a-4104-e46f-7470cc171daf"
      },
      "execution_count": 3,
      "outputs": [
        {
          "output_type": "stream",
          "name": "stdout",
          "text": [
            "Hello!!!test\n"
          ]
        }
      ]
    },
    {
      "cell_type": "code",
      "source": [
        "a =123\n",
        "b ='Hello'\n",
        "print(a,b)\n",
        "print(a,456,b,'world')"
      ],
      "metadata": {
        "colab": {
          "base_uri": "https://localhost:8080/"
        },
        "id": "aIYn-BfQkITT",
        "outputId": "13647823-b5f6-46aa-e3eb-1e6e4e5b865a"
      },
      "execution_count": 4,
      "outputs": [
        {
          "output_type": "stream",
          "name": "stdout",
          "text": [
            "123 Hello\n",
            "123 456 Hello world\n"
          ]
        }
      ]
    },
    {
      "cell_type": "code",
      "source": [
        "print('Hello\"pyton\"')\n",
        "print(\"Hello'pyton'\")\n",
        "print('Hello','pyton!')\n",
        "print('Hello' + 'pyton!')\n"
      ],
      "metadata": {
        "colab": {
          "base_uri": "https://localhost:8080/"
        },
        "id": "4Gb0DRSskSKN",
        "outputId": "af96fcc6-7f88-42db-a707-0476b893453a"
      },
      "execution_count": 5,
      "outputs": [
        {
          "output_type": "stream",
          "name": "stdout",
          "text": [
            "Hello\"pyton\"\n",
            "Hello'pyton'\n",
            "Hello pyton!\n",
            "Hellopyton!\n"
          ]
        }
      ]
    },
    {
      "cell_type": "code",
      "source": [
        "print(\"화면에 직접 출력\")\n",
        "print('ab\\'c')\n",
        "print(\"ab'c\")\n",
        "print(\"dosen't\")\n",
        "print('does')\n",
        "print('doesn\\'t')\n",
        "print(\"'string'\")\n",
        "print(\"\\\"string\\\"\")\n",
        "print('\"string\"')\n"
      ],
      "metadata": {
        "colab": {
          "base_uri": "https://localhost:8080/"
        },
        "id": "1i5j91CGkUCB",
        "outputId": "21e2a00b-b499-475d-e5db-acac2b35a866"
      },
      "execution_count": 6,
      "outputs": [
        {
          "output_type": "stream",
          "name": "stdout",
          "text": [
            "화면에 직접 출력\n",
            "ab'c\n",
            "ab'c\n",
            "dosen't\n",
            "does\n",
            "doesn't\n",
            "'string'\n",
            "\"string\"\n",
            "\"string\"\n"
          ]
        }
      ]
    },
    {
      "cell_type": "code",
      "source": [
        "s1 ='화면에 직접 출력'\n",
        "s2 = 'ab\\'c'\n",
        "s3 ='does'\n",
        "print(s1)\n",
        "print(s2)\n",
        "print(s3)\n",
        "print(s1[0]) # 첫 글자\n",
        "print(s2[1]) # 두번째 글자\n",
        "print(s3[1:3])\n",
        "print(s3[-1])# 마지막 글자\n",
        "print(s1[-2]) # 뒤에서 두번째째\n"
      ],
      "metadata": {
        "colab": {
          "base_uri": "https://localhost:8080/"
        },
        "id": "V7oybhjvkUDd",
        "outputId": "8bcb82f6-bea6-4342-f313-14e3976988ca"
      },
      "execution_count": 7,
      "outputs": [
        {
          "output_type": "stream",
          "name": "stdout",
          "text": [
            "화면에 직접 출력\n",
            "ab'c\n",
            "does\n",
            "화\n",
            "b\n",
            "oe\n",
            "s\n",
            "출\n"
          ]
        }
      ]
    },
    {
      "cell_type": "code",
      "source": [
        "a = 2\n",
        "b =3.1456\n",
        "c =a+b\n",
        "print(a)\n",
        "print(b)\n",
        "print(c)\n",
        "print(round(c,3))\n",
        "print(\"%.3f\"%(c))\n",
        "print(a+b)\n",
        "print(a,b,a+b,c)\n",
        "d = 1e2\n",
        "e = 1e-2\n",
        "print(d)\n",
        "print(e)"
      ],
      "metadata": {
        "colab": {
          "base_uri": "https://localhost:8080/"
        },
        "id": "STbfrT4qklFP",
        "outputId": "8c3a71ab-b34c-4ac1-bada-a67af1c19c59"
      },
      "execution_count": 8,
      "outputs": [
        {
          "output_type": "stream",
          "name": "stdout",
          "text": [
            "2\n",
            "3.1456\n",
            "5.1456\n",
            "5.146\n",
            "5.146\n",
            "5.1456\n",
            "2 3.1456 5.1456 5.1456\n",
            "100.0\n",
            "0.01\n"
          ]
        }
      ]
    },
    {
      "cell_type": "code",
      "source": [
        "item1 ='사과'\n",
        "price1= 1000\n",
        "item2 ='바나나'\n",
        "price2 = 500\n",
        "print(item1,price1)\n",
        "print(item2,price2)\n"
      ],
      "metadata": {
        "colab": {
          "base_uri": "https://localhost:8080/"
        },
        "id": "6hd54VA8krFr",
        "outputId": "3c39b757-e3ba-452a-fcd6-7b07a6dd23c7"
      },
      "execution_count": 9,
      "outputs": [
        {
          "output_type": "stream",
          "name": "stdout",
          "text": [
            "사과 1000\n",
            "바나나 500\n"
          ]
        }
      ]
    },
    {
      "cell_type": "code",
      "source": [
        "str ='{0}는{1}원입니다'\n",
        "print(str.format(item1,price1))\n",
        "print(str.format(item2,price2))\n",
        "\n",
        "print(item1,price1,sep=',',end='/')\n",
        "print(item1,price1)"
      ],
      "metadata": {
        "colab": {
          "base_uri": "https://localhost:8080/"
        },
        "id": "2uQyUUEvkvPE",
        "outputId": "be84b177-d2a3-45b7-f44d-45047f07350f"
      },
      "execution_count": 10,
      "outputs": [
        {
          "output_type": "stream",
          "name": "stdout",
          "text": [
            "사과는1000원입니다\n",
            "바나나는500원입니다\n",
            "사과,1000/사과 1000\n"
          ]
        }
      ]
    },
    {
      "cell_type": "code",
      "source": [
        "str2 = '%s는 %d원입니다.'\n",
        "print(str2%(item1,price1))\n",
        "print(str2%(item2,price2))"
      ],
      "metadata": {
        "colab": {
          "base_uri": "https://localhost:8080/"
        },
        "id": "TzaPbLyvkxOp",
        "outputId": "1cd1bcf4-057e-4989-bfd4-07c31c5b9bdf"
      },
      "execution_count": 11,
      "outputs": [
        {
          "output_type": "stream",
          "name": "stdout",
          "text": [
            "사과는 1000원입니다.\n",
            "바나나는 500원입니다.\n"
          ]
        }
      ]
    }
  ]
}