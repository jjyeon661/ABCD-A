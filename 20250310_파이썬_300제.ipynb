{
  "nbformat": 4,
  "nbformat_minor": 0,
  "metadata": {
    "colab": {
      "provenance": [],
      "authorship_tag": "ABX9TyN2hYocfEsm4cgPbl4ehkS0",
      "include_colab_link": true
    },
    "kernelspec": {
      "name": "python3",
      "display_name": "Python 3"
    },
    "language_info": {
      "name": "python"
    }
  },
  "cells": [
    {
      "cell_type": "markdown",
      "metadata": {
        "id": "view-in-github",
        "colab_type": "text"
      },
      "source": [
        "<a href=\"https://colab.research.google.com/github/jjyeon661/ABCD-A/blob/20250310/20250310_%ED%8C%8C%EC%9D%B4%EC%8D%AC_300%EC%A0%9C.ipynb\" target=\"_parent\"><img src=\"https://colab.research.google.com/assets/colab-badge.svg\" alt=\"Open In Colab\"/></a>"
      ]
    },
    {
      "cell_type": "code",
      "execution_count": 1,
      "metadata": {
        "colab": {
          "base_uri": "https://localhost:8080/"
        },
        "id": "WBHd4W708qj8",
        "outputId": "1bbecf52-ba38-4367-c0a0-6681e171bd2a"
      },
      "outputs": [
        {
          "output_type": "stream",
          "name": "stdout",
          "text": [
            "Hello world\n"
          ]
        }
      ],
      "source": [
        "#화면에 Hello world 문자열을 출력하세요.\n",
        "print('Hello world')"
      ]
    },
    {
      "cell_type": "code",
      "source": [
        "#화면에 Mary's cosmetics 을 출력하세요.\n",
        "print(\"Mary's cosmetics\")\n"
      ],
      "metadata": {
        "colab": {
          "base_uri": "https://localhost:8080/"
        },
        "id": "9ziYrTF583Hm",
        "outputId": "dc619036-ec2f-438b-e40a-f760e2bf9ad6"
      },
      "execution_count": 2,
      "outputs": [
        {
          "output_type": "stream",
          "name": "stdout",
          "text": [
            "Mary's cosmetics\n"
          ]
        }
      ]
    },
    {
      "cell_type": "code",
      "source": [
        "#화면에 아래 문장을 출력하세요.\n",
        "print('신씨가 소리질렀다.\"도둑이야\"')\n"
      ],
      "metadata": {
        "colab": {
          "base_uri": "https://localhost:8080/"
        },
        "id": "U-GX3J8984gc",
        "outputId": "46fd22b5-14fc-4c9c-c96d-cd7adbbf77a4"
      },
      "execution_count": 3,
      "outputs": [
        {
          "output_type": "stream",
          "name": "stdout",
          "text": [
            "신씨가 소리질렀다.\"도둑이야\"\n"
          ]
        }
      ]
    },
    {
      "cell_type": "code",
      "source": [
        "#화면에 \"c:\\window\"를 출력하세요\n",
        "print(\"c:\\windows\")"
      ],
      "metadata": {
        "colab": {
          "base_uri": "https://localhost:8080/"
        },
        "id": "fnqcLuNC865I",
        "outputId": "04f04974-3c5e-470d-b047-74b62671ec72"
      },
      "execution_count": 4,
      "outputs": [
        {
          "output_type": "stream",
          "name": "stdout",
          "text": [
            "c:\\windows\n"
          ]
        }
      ]
    },
    {
      "cell_type": "code",
      "source": [
        "#다음 코드를 실행해보고 Wt와 Wn의 역할을 설명해보새요.\n",
        "print(\"안녕하세요.\\n만나서\\t\\t반갑습니다.\")\n"
      ],
      "metadata": {
        "colab": {
          "base_uri": "https://localhost:8080/"
        },
        "id": "YL0dePT789WT",
        "outputId": "b8476b23-1bff-4587-a0c5-f4ab2a4a34ad"
      },
      "execution_count": 5,
      "outputs": [
        {
          "output_type": "stream",
          "name": "stdout",
          "text": [
            "안녕하세요.\n",
            "만나서\t\t반갑습니다.\n"
          ]
        }
      ]
    },
    {
      "cell_type": "code",
      "source": [
        "#print 함수에 두 개의 단어를 입력한 예제입니다. 아래 코드의 출력 결과를 예상해봅시다.\n",
        "print(\"오늘은\",\"일요일\")\n"
      ],
      "metadata": {
        "colab": {
          "base_uri": "https://localhost:8080/"
        },
        "id": "avkylhoM8_2z",
        "outputId": "157896e3-feca-47a1-ebe0-bbf0446c3cc8"
      },
      "execution_count": 6,
      "outputs": [
        {
          "output_type": "stream",
          "name": "stdout",
          "text": [
            "오늘은 일요일\n"
          ]
        }
      ]
    },
    {
      "cell_type": "code",
      "source": [
        "#print() 함수를 사용하여 다음과 같이 출력하세요.\n",
        "print(\"naver\",\"kakao\",\"samsung\",sep=';')\n"
      ],
      "metadata": {
        "colab": {
          "base_uri": "https://localhost:8080/"
        },
        "id": "5g_rQq1U9B3b",
        "outputId": "f6700e55-c489-4a24-89a9-c372d9e19c5d"
      },
      "execution_count": 7,
      "outputs": [
        {
          "output_type": "stream",
          "name": "stdout",
          "text": [
            "naver;kakao;samsung\n"
          ]
        }
      ]
    },
    {
      "cell_type": "code",
      "source": [
        "#print() 함수를 사용하여 다음과 같이 출력하세요.\n",
        "print(\"naver\",\"kakao\",\"sk\",\"samsung\",sep=\"/\")"
      ],
      "metadata": {
        "colab": {
          "base_uri": "https://localhost:8080/"
        },
        "id": "gFX5ZGHy9FpR",
        "outputId": "618fd0db-5d27-47d8-9f79-3c06068c0a3b"
      },
      "execution_count": 8,
      "outputs": [
        {
          "output_type": "stream",
          "name": "stdout",
          "text": [
            "naver/kakao/sk/samsung\n"
          ]
        }
      ]
    },
    {
      "cell_type": "code",
      "source": [
        "#다음 코드를 수정하여 줄바꿈이 없이 출력하세요.(힌트 end=\") print 함수는 두 번 사용합니다. 세미콜론(;)은 한줄에 여러 개의 명령을 작성하기 위해 사용합니다.\n",
        "print(\"first\",end=\"\");print(\"second\")\n"
      ],
      "metadata": {
        "colab": {
          "base_uri": "https://localhost:8080/"
        },
        "id": "5RC0mq_N9IxZ",
        "outputId": "c116a0cf-ab39-4e0f-85dd-e80130ff3942"
      },
      "execution_count": 9,
      "outputs": [
        {
          "output_type": "stream",
          "name": "stdout",
          "text": [
            "firstsecond\n"
          ]
        }
      ]
    },
    {
      "cell_type": "code",
      "source": [
        "#5/3의 결과를 화면에 출력하세요.\n",
        "print(5/3)"
      ],
      "metadata": {
        "colab": {
          "base_uri": "https://localhost:8080/"
        },
        "id": "1US2QfjT9LeX",
        "outputId": "5e636441-4c6b-48e1-b707-e291f42efeb1"
      },
      "execution_count": 10,
      "outputs": [
        {
          "output_type": "stream",
          "name": "stdout",
          "text": [
            "1.6666666666666667\n"
          ]
        }
      ]
    }
  ]
}