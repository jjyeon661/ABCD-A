{
  "nbformat": 4,
  "nbformat_minor": 0,
  "metadata": {
    "colab": {
      "provenance": [],
      "authorship_tag": "ABX9TyPRawLCDFDgx3KjvwAWfjAR",
      "include_colab_link": true
    },
    "kernelspec": {
      "name": "python3",
      "display_name": "Python 3"
    },
    "language_info": {
      "name": "python"
    }
  },
  "cells": [
    {
      "cell_type": "markdown",
      "metadata": {
        "id": "view-in-github",
        "colab_type": "text"
      },
      "source": [
        "<a href=\"https://colab.research.google.com/github/jjyeon661/ABCD-A/blob/20250331/%ED%8C%8C%EC%9D%B4%EC%8D%AC_%EB%B2%A1%ED%84%B0_%ED%95%A9%EA%B3%BC_%EB%82%B4%EC%A0%81%2C_%EC%99%B8%EC%A0%81.ipynb\" target=\"_parent\"><img src=\"https://colab.research.google.com/assets/colab-badge.svg\" alt=\"Open In Colab\"/></a>"
      ]
    },
    {
      "cell_type": "code",
      "execution_count": 1,
      "metadata": {
        "colab": {
          "base_uri": "https://localhost:8080/"
        },
        "id": "_sdBgCXrd6Se",
        "outputId": "27efcf1e-7ca7-4448-9f5a-1d28f0e200f4"
      },
      "outputs": [
        {
          "output_type": "stream",
          "name": "stdout",
          "text": [
            "첫 번째 벡터의 x 성분을 입력하세요: 10\n",
            "첫 번째 벡터의 y 성분을 입력하세요: 9\n",
            "두 번째 벡터의 x 성분을 입력하세요: 8\n",
            "두 번째 벡터의 y 성분을 입력하세요: 7\n",
            "\n",
            "벡터 1: 10.0 i + 9.0 j\n",
            "벡터 2: 8.0 i + 7.0 j\n",
            "\n",
            "벡터의 합: 18.0 i + 16.0 j\n",
            "벡터의 내적: 143.0\n",
            "벡터의 외적: -2.0\n",
            "첫 번째 벡터의 x 성분을 입력하세요: 10\n",
            "첫 번째 벡터의 y 성분을 입력하세요: 8\n",
            "첫 번째 벡터의 z4 성분을 입력하세요: 7\n",
            "두 번째 벡터의 x2 성분을 입력하세요: 6\n",
            "두 번째 벡터의 y2 성분을 입력하세요: 3\n",
            "두 번째 벡터의 z2 성분을 입력하세요: 2\n",
            "\n",
            "벡터 1: 10.0 i + 8.0 j + 7.0 k\n",
            "벡터 2: 6.0 i + 3.0 j + 2.0 k\n",
            "\n",
            "벡터의 합: 16.0 i + 11.0 j + 9.0 k\n",
            "벡터의 내적: 98.0\n",
            "벡터의 외적: -5.0 i + 22.0 j + -18.0 k\n"
          ]
        }
      ],
      "source": [
        "x1 = float(input(\"첫 번째 벡터의 x 성분을 입력하세요: \"))\n",
        "\n",
        "y1 = float(input(\"첫 번째 벡터의 y 성분을 입력하세요: \"))\n",
        "\n",
        "\n",
        "\n",
        "x2 = float(input(\"두 번째 벡터의 x 성분을 입력하세요: \"))\n",
        "\n",
        "y2 = float(input(\"두 번째 벡터의 y 성분을 입력하세요: \"))\n",
        "\n",
        "\n",
        "\n",
        "\n",
        "sum_x = x1 + x2\n",
        "\n",
        "sum_y = y1 + y2\n",
        "\n",
        "\n",
        "\n",
        "dot_product = x1 * x2 + y1 * y2\n",
        "\n",
        "\n",
        "cross_product = x1 * y2 - y1 * x2\n",
        "\n",
        "print(\"\\n벡터 1:\", x1, \"i +\", y1, \"j\")\n",
        "\n",
        "print(\"벡터 2:\", x2, \"i +\", y2, \"j\")\n",
        "\n",
        "print(\"\\n벡터의 합:\", sum_x, \"i +\", sum_y, \"j\")\n",
        "\n",
        "print(\"벡터의 내적:\", dot_product)\n",
        "\n",
        "print(\"벡터의 외적:\", cross_product)\n",
        "\n",
        "x1 = float(input(\"첫 번째 벡터의 x 성분을 입력하세요: \"))\n",
        "y1 = float(input(\"첫 번째 벡터의 y 성분을 입력하세요: \"))\n",
        "z1 = float(input(\"첫 번째 벡터의 z4 성분을 입력하세요: \"))\n",
        "\n",
        "x2 = float(input(\"두 번째 벡터의 x2 성분을 입력하세요: \"))\n",
        "y2 = float(input(\"두 번째 벡터의 y2 성분을 입력하세요: \"))\n",
        "z2 = float(input(\"두 번째 벡터의 z2 성분을 입력하세요: \"))\n",
        "\n",
        "sum_x = x1 + x2\n",
        "sum_y = y1 + y2\n",
        "sum_z = z1 + z2\n",
        "\n",
        "dot_product = x1 * x2 + y1 * y2 + z1 * z2\n",
        "\n",
        "cross_product_x = y1 * z2 - z1 * y2\n",
        "cross_product_y = z1 * x2 - x1 * z2\n",
        "cross_product_z = x1 * y2 - y1 * x2\n",
        "\n",
        "print(\"\\n벡터 1:\", x1, \"i +\", y1, \"j +\", z1, \"k\")\n",
        "print(\"벡터 2:\", x2, \"i +\", y2, \"j +\", z2, \"k\")\n",
        "\n",
        "print(\"\\n벡터의 합:\", sum_x, \"i +\", sum_y, \"j +\", sum_z, \"k\")\n",
        "print(\"벡터의 내적:\", dot_product)\n",
        "print(\"벡터의 외적:\", cross_product_x, \"i +\", cross_product_y, \"j +\", cross_product_z, \"k\")"
      ]
    }
  ]
}