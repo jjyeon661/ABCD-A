{
  "nbformat": 4,
  "nbformat_minor": 0,
  "metadata": {
    "colab": {
      "provenance": [],
      "authorship_tag": "ABX9TyMf5x/fPwysSqCH4zJfJN0E",
      "include_colab_link": true
    },
    "kernelspec": {
      "name": "python3",
      "display_name": "Python 3"
    },
    "language_info": {
      "name": "python"
    }
  },
  "cells": [
    {
      "cell_type": "markdown",
      "metadata": {
        "id": "view-in-github",
        "colab_type": "text"
      },
      "source": [
        "<a href=\"https://colab.research.google.com/github/jjyeon661/ABCD-A/blob/20250307/250307_%EB%B3%80%EC%88%98%EC%9D%98_%EA%B8%B0%EC%B4%88_.ipynb\" target=\"_parent\"><img src=\"https://colab.research.google.com/assets/colab-badge.svg\" alt=\"Open In Colab\"/></a>"
      ]
    },
    {
      "cell_type": "code",
      "source": [
        "watch=100000\n",
        "a='pig'\n",
        "b='dad'\n",
        "print(a)\n",
        "print(b)\n",
        "print(watch)\n",
        "print(a+b)\n",
        "print(a+' '+b)"
      ],
      "metadata": {
        "colab": {
          "base_uri": "https://localhost:8080/"
        },
        "id": "w6mvbfR-_fqq",
        "outputId": "7a36c62b-0188-4c6d-b53f-ff2dacf1776d"
      },
      "execution_count": 6,
      "outputs": [
        {
          "output_type": "stream",
          "name": "stdout",
          "text": [
            "pig\n",
            "dad\n",
            "100000\n",
            "pigdad\n",
            "pig dad\n"
          ]
        }
      ]
    },
    {
      "cell_type": "code",
      "source": [
        "aa = 1\n",
        "bb = 100\n",
        "\n",
        "aa,bb = bb,aa\n",
        "print(aa)\n",
        "print(bb)\n"
      ],
      "metadata": {
        "colab": {
          "base_uri": "https://localhost:8080/"
        },
        "id": "VEqhAX2V_hws",
        "outputId": "ac9ac809-f803-4cd3-e969-447d4f7afebf"
      },
      "execution_count": 7,
      "outputs": [
        {
          "output_type": "stream",
          "name": "stdout",
          "text": [
            "100\n",
            "1\n"
          ]
        }
      ]
    },
    {
      "cell_type": "code",
      "source": [
        "#예제입니다.\n",
        "\n",
        "a1 =[10,20,30]\n",
        "b1 = a1\n",
        "a1[0]=200\n",
        "print(b1)"
      ],
      "metadata": {
        "colab": {
          "base_uri": "https://localhost:8080/"
        },
        "id": "VV11c8-__uYl",
        "outputId": "14ade286-1abc-486f-b41f-806fe7d717ff"
      },
      "execution_count": 8,
      "outputs": [
        {
          "output_type": "stream",
          "name": "stdout",
          "text": [
            "[200, 20, 30]\n"
          ]
        }
      ]
    },
    {
      "cell_type": "code",
      "source": [
        "# print 사용 예제입니다.\n",
        "\n",
        "print(\"Hello world\")\n",
        "print(\"Hello world\")\n",
        "print(1)\n",
        "print(\"1\")\n",
        "c = 1\n",
        "print(\"c=\"+str(c))\n",
        "print(\"c=\",c)\n",
        "print(\"c{}\".format(c))"
      ],
      "metadata": {
        "colab": {
          "base_uri": "https://localhost:8080/"
        },
        "id": "OMpcN6DnAI_C",
        "outputId": "2c59bedd-b6c8-44d7-dbf5-8b641cc59f7c"
      },
      "execution_count": 9,
      "outputs": [
        {
          "output_type": "stream",
          "name": "stdout",
          "text": [
            "Hello world\n",
            "Hello world\n",
            "1\n",
            "1\n",
            "c=1\n",
            "c= 1\n",
            "c1\n"
          ]
        }
      ]
    },
    {
      "cell_type": "code",
      "source": [
        "# day1 프로그램\n",
        "a = [10,20,30]\n",
        "b = 1\n",
        "c = 2\n",
        "print(\"a{}\".format(a))\n",
        "print(\"b{}\".format(b))\n",
        "print(\"a{},b={},c={}\".format(a,b,c))\n",
        "print(\"a{},b={},c={}\".format(0,b,c))"
      ],
      "metadata": {
        "colab": {
          "base_uri": "https://localhost:8080/"
        },
        "id": "aY0NhhpgAKlO",
        "outputId": "1126ab7a-6c32-45dd-c4d6-ff94aa8a4bc0"
      },
      "execution_count": 10,
      "outputs": [
        {
          "output_type": "stream",
          "name": "stdout",
          "text": [
            "a[10, 20, 30]\n",
            "b1\n",
            "a[10, 20, 30],b=1,c=2\n",
            "a0,b=1,c=2\n"
          ]
        }
      ]
    }
  ]
}