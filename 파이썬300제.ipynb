{
  "nbformat": 4,
  "nbformat_minor": 0,
  "metadata": {
    "colab": {
      "provenance": [],
      "authorship_tag": "ABX9TyPZFlLvBfGB/6NlTrd4kkr/",
      "include_colab_link": true
    },
    "kernelspec": {
      "name": "python3",
      "display_name": "Python 3"
    },
    "language_info": {
      "name": "python"
    }
  },
  "cells": [
    {
      "cell_type": "markdown",
      "metadata": {
        "id": "view-in-github",
        "colab_type": "text"
      },
      "source": [
        "<a href=\"https://colab.research.google.com/github/jjyeon661/ABCD-A/blob/20250328/%ED%8C%8C%EC%9D%B4%EC%8D%AC300%EC%A0%9C.ipynb\" target=\"_parent\"><img src=\"https://colab.research.google.com/assets/colab-badge.svg\" alt=\"Open In Colab\"/></a>"
      ]
    },
    {
      "cell_type": "code",
      "execution_count": null,
      "metadata": {
        "colab": {
          "base_uri": "https://localhost:8080/"
        },
        "id": "Dsdu4S85XUgf",
        "outputId": "67078bb8-ab48-4cde-d41e-3598a7c7fb7a"
      },
      "outputs": [
        {
          "output_type": "stream",
          "name": "stdout",
          "text": [
            "총 평가금액: 500000 원\n"
          ]
        }
      ],
      "source": [
        "samsung_price = 50000\n",
        "shares_held = 10\n",
        "\n",
        "total_value = samsung_price * shares_held\n",
        "\n",
        "print(\"총 평가금액:\", total_value, \"원\")"
      ]
    },
    {
      "cell_type": "code",
      "source": [
        "market_cap = 298000000000000\n",
        "current_price = 50000\n",
        "per = 15.79\n",
        "\n",
        "print(\"시가총액:\", market_cap, \"원\")\n",
        "print(\"현재가:\", current_price, \"원\")\n",
        "print(\"PER:\", per)"
      ],
      "metadata": {
        "colab": {
          "base_uri": "https://localhost:8080/"
        },
        "id": "si_3oAB_XY5P",
        "outputId": "4e5fbebd-c493-4e71-8d77-61e254242c06"
      },
      "execution_count": null,
      "outputs": [
        {
          "output_type": "stream",
          "name": "stdout",
          "text": [
            "시가총액: 298000000000000 원\n",
            "현재가: 50000 원\n",
            "PER: 15.79\n"
          ]
        }
      ]
    },
    {
      "cell_type": "code",
      "source": [
        "s = \"hello!\"\n",
        "t = \" python\"\n",
        "\n",
        "print(s + t)"
      ],
      "metadata": {
        "colab": {
          "base_uri": "https://localhost:8080/"
        },
        "id": "-aU5zl2WXcXI",
        "outputId": "01b79ed0-b284-4eba-87c0-9a07ef7eac48"
      },
      "execution_count": null,
      "outputs": [
        {
          "output_type": "stream",
          "name": "stdout",
          "text": [
            "hello! python\n"
          ]
        }
      ]
    },
    {
      "cell_type": "code",
      "source": [
        "a = 2\n",
        "b = 3\n",
        "\n",
        "result = a + a * b\n",
        "\n",
        "print(result)"
      ],
      "metadata": {
        "colab": {
          "base_uri": "https://localhost:8080/"
        },
        "id": "rbhv4hZgXiQT",
        "outputId": "1e3315f2-1496-4dd6-a4f4-0ca8c0243119"
      },
      "execution_count": null,
      "outputs": [
        {
          "output_type": "stream",
          "name": "stdout",
          "text": [
            "8\n"
          ]
        }
      ]
    }
  ]
}