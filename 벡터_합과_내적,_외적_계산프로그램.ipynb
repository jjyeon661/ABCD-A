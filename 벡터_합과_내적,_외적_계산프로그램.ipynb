{
  "nbformat": 4,
  "nbformat_minor": 0,
  "metadata": {
    "colab": {
      "provenance": [],
      "authorship_tag": "ABX9TyM2QGq191IanQUnUg9ADeBa",
      "include_colab_link": true
    },
    "kernelspec": {
      "name": "python3",
      "display_name": "Python 3"
    },
    "language_info": {
      "name": "python"
    }
  },
  "cells": [
    {
      "cell_type": "markdown",
      "metadata": {
        "id": "view-in-github",
        "colab_type": "text"
      },
      "source": [
        "<a href=\"https://colab.research.google.com/github/jjyeon661/ABCD-A/blob/20250331/%EB%B2%A1%ED%84%B0_%ED%95%A9%EA%B3%BC_%EB%82%B4%EC%A0%81%2C_%EC%99%B8%EC%A0%81_%EA%B3%84%EC%82%B0%ED%94%84%EB%A1%9C%EA%B7%B8%EB%9E%A8.ipynb\" target=\"_parent\"><img src=\"https://colab.research.google.com/assets/colab-badge.svg\" alt=\"Open In Colab\"/></a>"
      ]
    },
    {
      "cell_type": "code",
      "execution_count": 1,
      "metadata": {
        "colab": {
          "base_uri": "https://localhost:8080/"
        },
        "id": "7V5daKgWl74E",
        "outputId": "4d3a0902-8365-4d15-c5f3-0017e8400f60"
      },
      "outputs": [
        {
          "output_type": "stream",
          "name": "stdout",
          "text": [
            "첫 번째 벡터의 x 성분을 입력하세요: 10\n",
            "첫 번째 벡터의 y 성분을 입력하세요: 9\n",
            "두 번째 벡터의 x 성분을 입력하세요: 8\n",
            "두 번째 벡터의 y 성분을 입력하세요: 7\n",
            "\n",
            "벡터 1: 10.0 i + 9.0 j\n",
            "벡터 2: 8.0 i + 7.0 j\n",
            "\n",
            "벡터의 합: 18.0 i + 16.0 j\n",
            "벡터의 내적: 143.0\n",
            "벡터의 외적: -2.0\n"
          ]
        }
      ],
      "source": [
        "x1 = float(input(\"첫 번째 벡터의 x 성분을 입력하세요: \"))\n",
        "y1 = float(input(\"첫 번째 벡터의 y 성분을 입력하세요: \"))\n",
        "\n",
        "x2 = float(input(\"두 번째 벡터의 x 성분을 입력하세요: \"))\n",
        "y2 = float(input(\"두 번째 벡터의 y 성분을 입력하세요: \"))\n",
        "\n",
        "sum_x = x1 + x2\n",
        "sum_y = y1 + y2\n",
        "\n",
        "dot_product = x1 * x2 + y1 * y2\n",
        "\n",
        "cross_product = x1 * y2 - y1 * x2\n",
        "\n",
        "# 6. 결과 출력\n",
        "print(\"\\n벡터 1:\", x1, \"i +\", y1, \"j\")\n",
        "print(\"벡터 2:\", x2, \"i +\", y2, \"j\")\n",
        "print(\"\\n벡터의 합:\", sum_x, \"i +\", sum_y, \"j\")\n",
        "print(\"벡터의 내적:\", dot_product)\n",
        "print(\"벡터의 외적:\", cross_product)"
      ]
    },
    {
      "cell_type": "code",
      "source": [
        "z1 = float(input(\"첫 번째 벡터의 z 성분을 입력하세요: \"))\n",
        "z2 = float(input(\"첫 번째 벡터의 z 성분을 입력하세요: \"))\n",
        "sum_z = z1 + z2\n",
        "\n",
        "dot_produt_3d = x1 * x2 + y1 * y2 + z1 * z2\n",
        "\n",
        "cross_x = y1 * z2 - z1 * y2\n",
        "cross_y = z1 * x2 - x1 * z2\n",
        "cross_z = x1 * y2 - y1 * x2\n",
        "cross_product_3d = [cross_x, cross_y, cross_z]\n"
      ],
      "metadata": {
        "colab": {
          "base_uri": "https://localhost:8080/"
        },
        "id": "hJcY-uDhmMg0",
        "outputId": "175b88c9-40fa-447b-d907-f1a955b5f8fd"
      },
      "execution_count": 2,
      "outputs": [
        {
          "name": "stdout",
          "output_type": "stream",
          "text": [
            "첫 번째 벡터의 z 성분을 입력하세요: 8\n",
            "첫 번째 벡터의 z 성분을 입력하세요: 7\n"
          ]
        }
      ]
    },
    {
      "cell_type": "code",
      "source": [
        "print(\"\\n벡터 1:\", x1, \"i +\", y1, \"j\", z1,\"k\")\n",
        "print(\"벡터 2:\", x2, \"i +\", y2, \"j\", z2, \"k\")\n",
        "print(\"\\n벡터의 합:\", sum_x, \"i +\", sum_y, \"j\", sum_z, \"k\")\n",
        "print(\"벡터의 내적:\", dot_produt_3d)\n",
        "print(\"벡터의 외적:\", cross_product_3d)"
      ],
      "metadata": {
        "colab": {
          "base_uri": "https://localhost:8080/"
        },
        "id": "eazb2wG_mVeh",
        "outputId": "bdbb9e1f-fd4b-4b0a-cf11-3b3121024c28"
      },
      "execution_count": 3,
      "outputs": [
        {
          "output_type": "stream",
          "name": "stdout",
          "text": [
            "\n",
            "벡터 1: 10.0 i + 9.0 j 8.0 k\n",
            "벡터 2: 8.0 i + 7.0 j 7.0 k\n",
            "\n",
            "벡터의 합: 18.0 i + 16.0 j 15.0 k\n",
            "벡터의 내적: 199.0\n",
            "벡터의 외적: [7.0, -6.0, -2.0]\n"
          ]
        }
      ]
    }
  ]
}