{
  "nbformat": 4,
  "nbformat_minor": 0,
  "metadata": {
    "colab": {
      "provenance": [],
      "authorship_tag": "ABX9TyOVzU0/Dk4vhNf9Dy126kD8",
      "include_colab_link": true
    },
    "kernelspec": {
      "name": "python3",
      "display_name": "Python 3"
    },
    "language_info": {
      "name": "python"
    }
  },
  "cells": [
    {
      "cell_type": "markdown",
      "metadata": {
        "id": "view-in-github",
        "colab_type": "text"
      },
      "source": [
        "<a href=\"https://colab.research.google.com/github/jjyeon661/ABCD-A/blob/20260329/%ED%8C%8C%EC%9D%B4%EC%8D%AC0329.ipynb\" target=\"_parent\"><img src=\"https://colab.research.google.com/assets/colab-badge.svg\" alt=\"Open In Colab\"/></a>"
      ]
    },
    {
      "cell_type": "code",
      "execution_count": null,
      "metadata": {
        "colab": {
          "base_uri": "https://localhost:8080/"
        },
        "id": "leOHWluRZThz",
        "outputId": "388a577b-79d6-413f-a0d5-417ac3e6f822"
      },
      "outputs": [
        {
          "output_type": "stream",
          "name": "stdout",
          "text": [
            "이름이 맞습니다.\n"
          ]
        }
      ],
      "source": [
        "name = \"BlockDMask\"\n",
        "if name == \"BlockDMask\":\n",
        "  print(\"이름이 맞습니다.\")\n",
        "else:\n",
        "  print(\"이름이 다릅니다.\")\n"
      ]
    },
    {
      "cell_type": "code",
      "source": [
        "pocket = 1000\n",
        "if pocket == 1000:\n",
        "  print(\"복권 구매\")\n",
        "elif pocket == 500:\n",
        "  print(\"껌 구매\");\n",
        "else:\n",
        "  print(\"집이나 가자\")\n"
      ],
      "metadata": {
        "colab": {
          "base_uri": "https://localhost:8080/"
        },
        "id": "84hY-H2xZV4o",
        "outputId": "4b6de764-7e71-4019-ae63-8ec32be5fc6c"
      },
      "execution_count": null,
      "outputs": [
        {
          "output_type": "stream",
          "name": "stdout",
          "text": [
            "복권 구매\n"
          ]
        }
      ]
    },
    {
      "cell_type": "code",
      "source": [
        "a = \"사과\"\n",
        "b = \"바나나\"\n",
        "c =  \"치즈\"\n",
        "if a == \"사과\" or b == \"바나나\":\n",
        "    print(\"사과 이거나 바나나 입니다.\")\n",
        "if a == \"사과\" and b == \"바나나\":\n",
        "    print(\"사과 이고 바나나 입니다.\")\n",
        "if not a == \"사과\":\n",
        "    print(\"사과가 어니어야 출력 됩니다.\")\n"
      ],
      "metadata": {
        "colab": {
          "base_uri": "https://localhost:8080/"
        },
        "id": "ao8oUCOkZYFQ",
        "outputId": "bcc78438-e536-468b-b90e-b95b8cff50ca"
      },
      "execution_count": null,
      "outputs": [
        {
          "output_type": "stream",
          "name": "stdout",
          "text": [
            "사과 이거나 바나나 입니다.\n",
            "사과 이고 바나나 입니다.\n"
          ]
        }
      ]
    },
    {
      "cell_type": "code",
      "source": [
        "a = [1, 2, 3, 4, 5, 6, 7, 8,] #튜플\n",
        "if 1 in a:\n",
        "    print(\"1 is in a\")\n",
        "elif 10 in a:\n",
        "    print(\"10 is in a\")"
      ],
      "metadata": {
        "colab": {
          "base_uri": "https://localhost:8080/"
        },
        "id": "cldhtA2BZcqj",
        "outputId": "eddf374c-074f-472c-fbc9-2f81c4ce304d"
      },
      "execution_count": null,
      "outputs": [
        {
          "output_type": "stream",
          "name": "stdout",
          "text": [
            "1 is in a\n"
          ]
        }
      ]
    },
    {
      "cell_type": "code",
      "source": [
        "p_class = \"Z\"\n",
        "sel_amount = 79900\n",
        "\n",
        "if p_class == \"A\":\n",
        "    sel_amount *= 0.7 # 55930.0\n",
        "    print(f'판매가는 {sel_amount}원 입니다.')\n",
        "elif p_class == \"B\": # 67915.0\n",
        "    sel_amount *= 0.85\n",
        "    print(f'판매가는 {sel_amount}원 입니다.')\n",
        "elif p_class == \"C\": # 73508.0\n",
        "    sel_amount *= 0.92\n",
        "    print(f'판매가는 {sel_amount}원 입니다.')\n",
        "elif p_class == \"Z\": # 84911\n",
        "    sel_amount += 5000\n",
        "    print(f'판매가는 {sel_amount}원 입니다.')"
      ],
      "metadata": {
        "colab": {
          "base_uri": "https://localhost:8080/"
        },
        "id": "sZuMGfx3Ze4h",
        "outputId": "54f8b746-dff8-492d-9d94-b5c318b4208e"
      },
      "execution_count": null,
      "outputs": [
        {
          "output_type": "stream",
          "name": "stdout",
          "text": [
            "판매가는 84900원 입니다.\n"
          ]
        }
      ]
    },
    {
      "cell_type": "code",
      "source": [
        "X=2\n",
        "\n",
        "if X%2 == 0:\n",
        "    print(\"Even Number\")\n",
        "else:\n",
        "    print(\"Odd Number\")"
      ],
      "metadata": {
        "colab": {
          "base_uri": "https://localhost:8080/"
        },
        "id": "RnmT57TTZh08",
        "outputId": "d3c622aa-8a06-466b-d8ca-4f7735fdc0b3"
      },
      "execution_count": null,
      "outputs": [
        {
          "output_type": "stream",
          "name": "stdout",
          "text": [
            "Even Number\n"
          ]
        }
      ]
    },
    {
      "cell_type": "code",
      "source": [
        "X = 3\n",
        "\n",
        "if X < 10:\n",
        "  print('X는 10보다 작아!')\n",
        "  if X%2 == 0:\n",
        "      print('X는 짝수야!')\n",
        "  else:\n",
        "      print('X는 홀수야!')\n",
        "else:\n",
        "  print('X는 10보다 커!')\n",
        "  if X%2 == 0:\n",
        "      print('X는 짝수야!')\n",
        "  else:\n",
        "      print('X는 홀수야!')"
      ],
      "metadata": {
        "colab": {
          "base_uri": "https://localhost:8080/"
        },
        "id": "k0caF2abZlwu",
        "outputId": "d99d9b87-dac7-40c7-9831-2abee9a025af"
      },
      "execution_count": null,
      "outputs": [
        {
          "output_type": "stream",
          "name": "stdout",
          "text": [
            "X는 10보다 작아!\n",
            "X는 홀수야!\n"
          ]
        }
      ]
    },
    {
      "cell_type": "code",
      "source": [
        "X = 3\n",
        "if X < 10 and X % 2 == 0:\n",
        "    print('X는 10보다 작으면서 짝수야!')\n",
        "if X < 10 and not X % 2 == 0:\n",
        "    print('X는 10보다 작으면서 홀수야!')\n",
        "if not X < 10 and X % 2 == 0:\n",
        "    print('X는 10보다 크면서 짝수야!')\n",
        "if not X < 10 and not X % 2 == 0:\n",
        "    print('X는 10보다 크면서 홀수야!')\n"
      ],
      "metadata": {
        "colab": {
          "base_uri": "https://localhost:8080/"
        },
        "id": "cGzFyo90Zodn",
        "outputId": "93da9915-ce31-4040-b3b4-69becf41d4d1"
      },
      "execution_count": null,
      "outputs": [
        {
          "output_type": "stream",
          "name": "stdout",
          "text": [
            "X는 10보다 작으면서 홀수야!\n"
          ]
        }
      ]
    },
    {
      "cell_type": "code",
      "source": [
        "treeHit = 0\n",
        "\n",
        "while treeHit < 10:\n",
        "    treeHit = treeHit +1\n",
        "    print(\"나무를 %d번 찍었습니다.\" % treeHit)\n",
        "    if treeHit == 10:\n",
        "        print(\"나무 넘어갑니다.\")"
      ],
      "metadata": {
        "colab": {
          "base_uri": "https://localhost:8080/"
        },
        "id": "OI-EZeApZ7rO",
        "outputId": "8fbbeff6-f9be-47b3-ea7d-69df6503ef7b"
      },
      "execution_count": null,
      "outputs": [
        {
          "output_type": "stream",
          "name": "stdout",
          "text": [
            "나무를 1번 찍었습니다.\n",
            "나무를 2번 찍었습니다.\n",
            "나무를 3번 찍었습니다.\n",
            "나무를 4번 찍었습니다.\n",
            "나무를 5번 찍었습니다.\n",
            "나무를 6번 찍었습니다.\n",
            "나무를 7번 찍었습니다.\n",
            "나무를 8번 찍었습니다.\n",
            "나무를 9번 찍었습니다.\n",
            "나무를 10번 찍었습니다.\n",
            "나무 넘어갑니다.\n"
          ]
        }
      ]
    },
    {
      "cell_type": "code",
      "source": [
        "coffee = 10\n",
        "money = 300\n",
        "while money:\n",
        "  print(\"돈을 받았으니 커피를 줍니다.\")\n",
        "  coffee = coffee -1\n",
        "  print(\"남은 커피의 양은 %d개입니다.\" % coffee)\n",
        "  if coffee == 0:\n",
        "       print(\"커피가 다 떨어졌습니다. 판매를 중지합니다.\")\n",
        "       break\n"
      ],
      "metadata": {
        "colab": {
          "base_uri": "https://localhost:8080/"
        },
        "id": "bGKCAQxSZ-c_",
        "outputId": "9fa1ae2e-8993-4d87-d5c4-e871790a466b"
      },
      "execution_count": null,
      "outputs": [
        {
          "output_type": "stream",
          "name": "stdout",
          "text": [
            "돈을 받았으니 커피를 줍니다.\n",
            "남은 커피의 양은 9개입니다.\n",
            "돈을 받았으니 커피를 줍니다.\n",
            "남은 커피의 양은 8개입니다.\n",
            "돈을 받았으니 커피를 줍니다.\n",
            "남은 커피의 양은 7개입니다.\n",
            "돈을 받았으니 커피를 줍니다.\n",
            "남은 커피의 양은 6개입니다.\n",
            "돈을 받았으니 커피를 줍니다.\n",
            "남은 커피의 양은 5개입니다.\n",
            "돈을 받았으니 커피를 줍니다.\n",
            "남은 커피의 양은 4개입니다.\n",
            "돈을 받았으니 커피를 줍니다.\n",
            "남은 커피의 양은 3개입니다.\n",
            "돈을 받았으니 커피를 줍니다.\n",
            "남은 커피의 양은 2개입니다.\n",
            "돈을 받았으니 커피를 줍니다.\n",
            "남은 커피의 양은 1개입니다.\n",
            "돈을 받았으니 커피를 줍니다.\n",
            "남은 커피의 양은 0개입니다.\n",
            "커피가 다 떨어졌습니다. 판매를 중지합니다.\n"
          ]
        }
      ]
    },
    {
      "cell_type": "code",
      "source": [
        "i = 0\n",
        "result1 = 0\n",
        "while i < 100:\n",
        "    i = i + 1\n",
        "    if i % 2 == 0:\n",
        "        result1 = result1 + i\n",
        "\n",
        "print('1번 방법 : {0}'.format(result1))\n"
      ],
      "metadata": {
        "colab": {
          "base_uri": "https://localhost:8080/"
        },
        "id": "IwFiVz5saCHR",
        "outputId": "42c79db2-c0dc-4cdc-88c3-7a870eaddea7"
      },
      "execution_count": null,
      "outputs": [
        {
          "output_type": "stream",
          "name": "stdout",
          "text": [
            "1번 방법 : 2550\n"
          ]
        }
      ]
    },
    {
      "cell_type": "code",
      "source": [
        "# 2번 방법 (break 이용)\n",
        "j = 0\n",
        "result2 = 0\n",
        "while True:\n",
        "    if j > 100:\n",
        "        break\n",
        "\n",
        "    j = j + 1\n",
        "    if j % 2 == 0:\n",
        "        result2 = result2 + j\n",
        "\n",
        "print('2번 방법 (break) : {0}'.format(result2))"
      ],
      "metadata": {
        "colab": {
          "base_uri": "https://localhost:8080/"
        },
        "id": "djdhSDOLaFcr",
        "outputId": "b0731eca-2704-4ada-f51c-8d32f324254a"
      },
      "execution_count": null,
      "outputs": [
        {
          "output_type": "stream",
          "name": "stdout",
          "text": [
            "2번 방법 (break) : 2550\n"
          ]
        }
      ]
    },
    {
      "cell_type": "code",
      "source": [
        "# 3번 방법 (continue 이용)\n",
        "k = 0\n",
        "result3 = 0\n",
        "while k < 100:\n",
        "    k = k + 1\n",
        "    if k % 2 != 0:  # 홀수라면 continue로 건너뜁니다\n",
        "        continue\n",
        "\n",
        "    result3 = result3 + k  # 짝수를 더합니다\n",
        "\n",
        "print('3번 방법 (continue) : {0}'.format(result3))\n"
      ],
      "metadata": {
        "colab": {
          "base_uri": "https://localhost:8080/"
        },
        "id": "SozxHzkoaInt",
        "outputId": "65459ed6-e622-48d8-c871-160b8961d4e3"
      },
      "execution_count": null,
      "outputs": [
        {
          "output_type": "stream",
          "name": "stdout",
          "text": [
            "3번 방법 (continue) : 2550\n"
          ]
        }
      ]
    }
  ]
}